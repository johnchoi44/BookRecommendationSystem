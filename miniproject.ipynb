{
 "cells": [
  {
   "cell_type": "markdown",
   "id": "e97bcc3c-f98e-466e-a451-34bcf9c76512",
   "metadata": {},
   "source": [
    "# Make a sample dataset"
   ]
  },
  {
   "cell_type": "code",
   "execution_count": 24,
   "id": "01b453e1-5729-41ee-81ae-c14d17367da2",
   "metadata": {},
   "outputs": [],
   "source": [
    "import numpy as np\n",
    "import pandas as pd\n",
    "from pandas import Series, DataFrame"
   ]
  },
  {
   "cell_type": "code",
   "execution_count": 25,
   "id": "e66f2c69-d05f-49d5-b252-4179fbdf79ce",
   "metadata": {},
   "outputs": [],
   "source": [
    "filename = '/storage/home/ybc5222/work/MiniProject/Books_rating.csv'\n",
    "filename2= '/storage/home/ybc5222/work/MiniProject/books_data.csv'\n",
    "df = pd.read_csv(filename)\n",
    "df2 = pd.read_csv(filename2)"
   ]
  },
  {
   "cell_type": "code",
   "execution_count": 4,
   "id": "3a95b935-2776-409b-9299-219c5be42f6d",
   "metadata": {},
   "outputs": [
    {
     "name": "stdout",
     "output_type": "stream",
     "text": [
      "(3000000, 10)\n",
      "(212404, 10)\n"
     ]
    }
   ],
   "source": [
    "print(df.shape)\n",
    "print(df2.shape)"
   ]
  },
  {
   "cell_type": "code",
   "execution_count": 5,
   "id": "5e1eb344-bae6-4568-a2ba-f7e358ce1d6e",
   "metadata": {},
   "outputs": [],
   "source": [
    "df = df.sample(frac = 0.03)\n",
    "df2 = df2.sample(frac = 0.03)"
   ]
  },
  {
   "cell_type": "code",
   "execution_count": 85,
   "id": "0cea1295-93b0-460f-9d92-d7313e1c1a94",
   "metadata": {},
   "outputs": [],
   "source": [
    "df_dup = df\n",
    "df2_dup = df2"
   ]
  },
  {
   "cell_type": "code",
   "execution_count": 95,
   "id": "93910205-da13-408a-ab44-b33706ef6a5f",
   "metadata": {},
   "outputs": [],
   "source": [
    "df = df_dup\n",
    "df2 = df2_dup"
   ]
  },
  {
   "cell_type": "code",
   "execution_count": 27,
   "id": "8edbd9df-42fc-427a-88af-89999b4c4d11",
   "metadata": {},
   "outputs": [
    {
     "name": "stdout",
     "output_type": "stream",
     "text": [
      "(90000, 10)\n",
      "(6372, 10)\n"
     ]
    }
   ],
   "source": [
    "print(df.shape)\n",
    "print(df2.shape)"
   ]
  },
  {
   "cell_type": "code",
   "execution_count": 28,
   "id": "37938239-70dc-40d5-af72-5d66cecf4565",
   "metadata": {},
   "outputs": [],
   "source": [
    "savefile = '/storage/home/ybc5222/work/MiniProject/Books_rating_sample.csv'\n",
    "savefile2 = '/storage/home/ybc5222/work/MiniProject/books_data_sample.csv'\n",
    "df.to_csv(savefile)\n",
    "df2.to_csv(savefile2)"
   ]
  },
  {
   "cell_type": "markdown",
   "id": "7920ac7f-0850-424a-a874-9ed8e94950a2",
   "metadata": {},
   "source": [
    "# Open Sample Dataset"
   ]
  },
  {
   "cell_type": "code",
   "execution_count": 3,
   "id": "3e02e070-6d29-4db5-85a1-c95bceacfbb4",
   "metadata": {},
   "outputs": [],
   "source": [
    "filenames = '/storage/home/ybc5222/work/MiniProject/Books_rating_sample.csv'\n",
    "filenames2= '/storage/home/ybc5222/work/MiniProject/books_data_sample.csv'\n",
    "dfs = pd.read_csv(filenames)\n",
    "dfs2 = pd.read_csv(filenames2)"
   ]
  },
  {
   "cell_type": "code",
   "execution_count": 9,
   "id": "a94b84f6-2c15-41ad-a139-e2cbd1158f54",
   "metadata": {},
   "outputs": [
    {
     "data": {
      "text/html": [
       "<div>\n",
       "<style scoped>\n",
       "    .dataframe tbody tr th:only-of-type {\n",
       "        vertical-align: middle;\n",
       "    }\n",
       "\n",
       "    .dataframe tbody tr th {\n",
       "        vertical-align: top;\n",
       "    }\n",
       "\n",
       "    .dataframe thead th {\n",
       "        text-align: right;\n",
       "    }\n",
       "</style>\n",
       "<table border=\"1\" class=\"dataframe\">\n",
       "  <thead>\n",
       "    <tr style=\"text-align: right;\">\n",
       "      <th></th>\n",
       "      <th>Unnamed: 0</th>\n",
       "      <th>Title</th>\n",
       "      <th>description</th>\n",
       "      <th>authors</th>\n",
       "      <th>image</th>\n",
       "      <th>previewLink</th>\n",
       "      <th>publisher</th>\n",
       "      <th>publishedDate</th>\n",
       "      <th>infoLink</th>\n",
       "      <th>categories</th>\n",
       "      <th>ratingsCount</th>\n",
       "    </tr>\n",
       "  </thead>\n",
       "  <tbody>\n",
       "    <tr>\n",
       "      <th>0</th>\n",
       "      <td>134267</td>\n",
       "      <td>Hidden America,</td>\n",
       "      <td>An Oprah.com “Must-Read Book” Award-winning jo...</td>\n",
       "      <td>['Jeanne Marie Laskas']</td>\n",
       "      <td>http://books.google.com/books/content?id=nKv4n...</td>\n",
       "      <td>http://books.google.com/books?id=nKv4n2nXWfMC&amp;...</td>\n",
       "      <td>Penguin</td>\n",
       "      <td>2012-09-13</td>\n",
       "      <td>https://play.google.com/store/books/details?id...</td>\n",
       "      <td>['Social Science']</td>\n",
       "      <td>20.0</td>\n",
       "    </tr>\n",
       "    <tr>\n",
       "      <th>1</th>\n",
       "      <td>130694</td>\n",
       "      <td>On the Banks of the Amazon/En las orillas del ...</td>\n",
       "      <td>Describes toucans, macaws, and harpy eagles, b...</td>\n",
       "      <td>['Julie Guidone']</td>\n",
       "      <td>http://books.google.com/books/content?id=ACInu...</td>\n",
       "      <td>http://books.google.nl/books?id=ACInuqG0z6cC&amp;p...</td>\n",
       "      <td>Gareth Stevens Publishing LLLP</td>\n",
       "      <td>2009-01-01</td>\n",
       "      <td>http://books.google.nl/books?id=ACInuqG0z6cC&amp;d...</td>\n",
       "      <td>['Juvenile Nonfiction']</td>\n",
       "      <td>NaN</td>\n",
       "    </tr>\n",
       "    <tr>\n",
       "      <th>2</th>\n",
       "      <td>160041</td>\n",
       "      <td>Everything Elephants: A Collector's Pictorial ...</td>\n",
       "      <td>Images and information about a wide range of e...</td>\n",
       "      <td>['Michael Don Knapik']</td>\n",
       "      <td>http://books.google.com/books/content?id=wRzrA...</td>\n",
       "      <td>http://books.google.com/books?id=wRzrAAAAMAAJ&amp;...</td>\n",
       "      <td>Schiffer Book for Collectors w</td>\n",
       "      <td>2002</td>\n",
       "      <td>http://books.google.com/books?id=wRzrAAAAMAAJ&amp;...</td>\n",
       "      <td>['Antiques &amp; Collectibles']</td>\n",
       "      <td>NaN</td>\n",
       "    </tr>\n",
       "    <tr>\n",
       "      <th>3</th>\n",
       "      <td>111420</td>\n",
       "      <td>Last Gangster</td>\n",
       "      <td>Charlie Richardson, one of Britain's most noto...</td>\n",
       "      <td>['Charlie Richardson']</td>\n",
       "      <td>http://books.google.com/books/content?id=znaIA...</td>\n",
       "      <td>http://books.google.nl/books?id=znaIApJ-ogsC&amp;p...</td>\n",
       "      <td>Random House</td>\n",
       "      <td>2014-01-20</td>\n",
       "      <td>https://play.google.com/store/books/details?id...</td>\n",
       "      <td>['Biography &amp; Autobiography']</td>\n",
       "      <td>NaN</td>\n",
       "    </tr>\n",
       "    <tr>\n",
       "      <th>4</th>\n",
       "      <td>80039</td>\n",
       "      <td>Talleyrand (The Bedford historical series)</td>\n",
       "      <td>NaN</td>\n",
       "      <td>['Duff Cooper']</td>\n",
       "      <td>NaN</td>\n",
       "      <td>http://books.google.com/books?id=IDwCngEACAAJ&amp;...</td>\n",
       "      <td>NaN</td>\n",
       "      <td>1939</td>\n",
       "      <td>http://books.google.com/books?id=IDwCngEACAAJ&amp;...</td>\n",
       "      <td>NaN</td>\n",
       "      <td>3.0</td>\n",
       "    </tr>\n",
       "  </tbody>\n",
       "</table>\n",
       "</div>"
      ],
      "text/plain": [
       "   Unnamed: 0                                              Title  \\\n",
       "0      134267                                    Hidden America,   \n",
       "1      130694  On the Banks of the Amazon/En las orillas del ...   \n",
       "2      160041  Everything Elephants: A Collector's Pictorial ...   \n",
       "3      111420                                      Last Gangster   \n",
       "4       80039         Talleyrand (The Bedford historical series)   \n",
       "\n",
       "                                         description                  authors  \\\n",
       "0  An Oprah.com “Must-Read Book” Award-winning jo...  ['Jeanne Marie Laskas']   \n",
       "1  Describes toucans, macaws, and harpy eagles, b...        ['Julie Guidone']   \n",
       "2  Images and information about a wide range of e...   ['Michael Don Knapik']   \n",
       "3  Charlie Richardson, one of Britain's most noto...   ['Charlie Richardson']   \n",
       "4                                                NaN          ['Duff Cooper']   \n",
       "\n",
       "                                               image  \\\n",
       "0  http://books.google.com/books/content?id=nKv4n...   \n",
       "1  http://books.google.com/books/content?id=ACInu...   \n",
       "2  http://books.google.com/books/content?id=wRzrA...   \n",
       "3  http://books.google.com/books/content?id=znaIA...   \n",
       "4                                                NaN   \n",
       "\n",
       "                                         previewLink  \\\n",
       "0  http://books.google.com/books?id=nKv4n2nXWfMC&...   \n",
       "1  http://books.google.nl/books?id=ACInuqG0z6cC&p...   \n",
       "2  http://books.google.com/books?id=wRzrAAAAMAAJ&...   \n",
       "3  http://books.google.nl/books?id=znaIApJ-ogsC&p...   \n",
       "4  http://books.google.com/books?id=IDwCngEACAAJ&...   \n",
       "\n",
       "                        publisher publishedDate  \\\n",
       "0                         Penguin    2012-09-13   \n",
       "1  Gareth Stevens Publishing LLLP    2009-01-01   \n",
       "2  Schiffer Book for Collectors w          2002   \n",
       "3                    Random House    2014-01-20   \n",
       "4                             NaN          1939   \n",
       "\n",
       "                                            infoLink  \\\n",
       "0  https://play.google.com/store/books/details?id...   \n",
       "1  http://books.google.nl/books?id=ACInuqG0z6cC&d...   \n",
       "2  http://books.google.com/books?id=wRzrAAAAMAAJ&...   \n",
       "3  https://play.google.com/store/books/details?id...   \n",
       "4  http://books.google.com/books?id=IDwCngEACAAJ&...   \n",
       "\n",
       "                      categories  ratingsCount  \n",
       "0             ['Social Science']          20.0  \n",
       "1        ['Juvenile Nonfiction']           NaN  \n",
       "2    ['Antiques & Collectibles']           NaN  \n",
       "3  ['Biography & Autobiography']           NaN  \n",
       "4                            NaN           3.0  "
      ]
     },
     "execution_count": 9,
     "metadata": {},
     "output_type": "execute_result"
    }
   ],
   "source": [
    "dfs2.head()"
   ]
  },
  {
   "cell_type": "code",
   "execution_count": 103,
   "id": "8a0b6e32-a413-403a-ba48-e633b556ade7",
   "metadata": {},
   "outputs": [
    {
     "name": "stdout",
     "output_type": "stream",
     "text": [
      "212403\n"
     ]
    },
    {
     "data": {
      "text/plain": [
       "True"
      ]
     },
     "execution_count": 103,
     "metadata": {},
     "output_type": "execute_result"
    }
   ],
   "source": [
    "# Check if each unique Book title is the same in two dataset\n",
    "print(df['Title'].nunique())\n",
    "df['Title'].nunique() == df2['Title'].nunique()"
   ]
  },
  {
   "cell_type": "code",
   "execution_count": 105,
   "id": "6aa196f4-c61d-47fb-88cf-c6cc9692ac4b",
   "metadata": {},
   "outputs": [
    {
     "data": {
      "text/plain": [
       "10883"
      ]
     },
     "execution_count": 105,
     "metadata": {},
     "output_type": "execute_result"
    }
   ],
   "source": [
    "# number of categories\n",
    "df2['categories'].nunique()"
   ]
  },
  {
   "cell_type": "code",
   "execution_count": 26,
   "id": "b68d36f0-065d-402c-be54-8ac7f4d96caf",
   "metadata": {},
   "outputs": [
    {
     "data": {
      "text/plain": [
       "['Fiction']                      824439\n",
       "['Juvenile Fiction']             207542\n",
       "['Biography & Autobiography']    107791\n",
       "['Religion']                      98035\n",
       "['History']                       89988\n",
       "['Business & Economics']          65618\n",
       "['Computers']                     42403\n",
       "['Social Science']                31072\n",
       "['Cooking']                       29895\n",
       "['Family & Relationships']        29277\n",
       "Name: categories, dtype: int64"
      ]
     },
     "execution_count": 26,
     "metadata": {},
     "output_type": "execute_result"
    }
   ],
   "source": [
    "# merge the two dataset\n",
    "mg = pd.merge(df, df2[['Title', 'categories']], on='Title', how='left')\n",
    "# top 10 categories in ratings\n",
    "mg['categories'].value_counts().head(10)"
   ]
  },
  {
   "cell_type": "code",
   "execution_count": 29,
   "id": "e5351670-8965-4359-90ad-5d5460043c19",
   "metadata": {},
   "outputs": [
    {
     "data": {
      "text/html": [
       "<div>\n",
       "<style scoped>\n",
       "    .dataframe tbody tr th:only-of-type {\n",
       "        vertical-align: middle;\n",
       "    }\n",
       "\n",
       "    .dataframe tbody tr th {\n",
       "        vertical-align: top;\n",
       "    }\n",
       "\n",
       "    .dataframe thead th {\n",
       "        text-align: right;\n",
       "    }\n",
       "</style>\n",
       "<table border=\"1\" class=\"dataframe\">\n",
       "  <thead>\n",
       "    <tr style=\"text-align: right;\">\n",
       "      <th></th>\n",
       "      <th>Id</th>\n",
       "      <th>Title</th>\n",
       "      <th>Price</th>\n",
       "      <th>User_id</th>\n",
       "      <th>profileName</th>\n",
       "      <th>review/helpfulness</th>\n",
       "      <th>review/score</th>\n",
       "      <th>review/time</th>\n",
       "      <th>review/summary</th>\n",
       "      <th>review/text</th>\n",
       "      <th>categories</th>\n",
       "    </tr>\n",
       "  </thead>\n",
       "  <tbody>\n",
       "    <tr>\n",
       "      <th>14</th>\n",
       "      <td>0595344550</td>\n",
       "      <td>Whispers of the Wicked Saints</td>\n",
       "      <td>10.95</td>\n",
       "      <td>A3Q12RK71N74LB</td>\n",
       "      <td>Book Reader</td>\n",
       "      <td>7/11</td>\n",
       "      <td>1.0</td>\n",
       "      <td>1117065600</td>\n",
       "      <td>not good</td>\n",
       "      <td>I bought this book because I read some glowing...</td>\n",
       "      <td>['Fiction']</td>\n",
       "    </tr>\n",
       "    <tr>\n",
       "      <th>15</th>\n",
       "      <td>0595344550</td>\n",
       "      <td>Whispers of the Wicked Saints</td>\n",
       "      <td>10.95</td>\n",
       "      <td>A1E9M6APK30ZAU</td>\n",
       "      <td>V. Powell</td>\n",
       "      <td>1/2</td>\n",
       "      <td>4.0</td>\n",
       "      <td>1119571200</td>\n",
       "      <td>Here is my opinion</td>\n",
       "      <td>I have to admit, I am not one to write reviews...</td>\n",
       "      <td>['Fiction']</td>\n",
       "    </tr>\n",
       "    <tr>\n",
       "      <th>16</th>\n",
       "      <td>0595344550</td>\n",
       "      <td>Whispers of the Wicked Saints</td>\n",
       "      <td>10.95</td>\n",
       "      <td>AUR0VA5H0C66C</td>\n",
       "      <td>LoveToRead \"Actually Read Books\"</td>\n",
       "      <td>1/2</td>\n",
       "      <td>1.0</td>\n",
       "      <td>1119225600</td>\n",
       "      <td>Buyer beware</td>\n",
       "      <td>This is a self-published book, and if you want...</td>\n",
       "      <td>['Fiction']</td>\n",
       "    </tr>\n",
       "    <tr>\n",
       "      <th>17</th>\n",
       "      <td>0595344550</td>\n",
       "      <td>Whispers of the Wicked Saints</td>\n",
       "      <td>10.95</td>\n",
       "      <td>A1YLDZ3VHR6QPZ</td>\n",
       "      <td>Clara</td>\n",
       "      <td>2/4</td>\n",
       "      <td>5.0</td>\n",
       "      <td>1115942400</td>\n",
       "      <td>Fall on your knee's</td>\n",
       "      <td>When I first read this the I was mezmerized at...</td>\n",
       "      <td>['Fiction']</td>\n",
       "    </tr>\n",
       "    <tr>\n",
       "      <th>18</th>\n",
       "      <td>0595344550</td>\n",
       "      <td>Whispers of the Wicked Saints</td>\n",
       "      <td>10.95</td>\n",
       "      <td>ACO23CG8K8T77</td>\n",
       "      <td>Tonya</td>\n",
       "      <td>5/9</td>\n",
       "      <td>5.0</td>\n",
       "      <td>1117065600</td>\n",
       "      <td>Bravo Veronica</td>\n",
       "      <td>I read the review directly under mine and I ha...</td>\n",
       "      <td>['Fiction']</td>\n",
       "    </tr>\n",
       "  </tbody>\n",
       "</table>\n",
       "</div>"
      ],
      "text/plain": [
       "            Id                          Title  Price         User_id  \\\n",
       "14  0595344550  Whispers of the Wicked Saints  10.95  A3Q12RK71N74LB   \n",
       "15  0595344550  Whispers of the Wicked Saints  10.95  A1E9M6APK30ZAU   \n",
       "16  0595344550  Whispers of the Wicked Saints  10.95   AUR0VA5H0C66C   \n",
       "17  0595344550  Whispers of the Wicked Saints  10.95  A1YLDZ3VHR6QPZ   \n",
       "18  0595344550  Whispers of the Wicked Saints  10.95   ACO23CG8K8T77   \n",
       "\n",
       "                         profileName review/helpfulness  review/score  \\\n",
       "14                       Book Reader               7/11           1.0   \n",
       "15                         V. Powell                1/2           4.0   \n",
       "16  LoveToRead \"Actually Read Books\"                1/2           1.0   \n",
       "17                             Clara                2/4           5.0   \n",
       "18                             Tonya                5/9           5.0   \n",
       "\n",
       "    review/time       review/summary  \\\n",
       "14   1117065600             not good   \n",
       "15   1119571200   Here is my opinion   \n",
       "16   1119225600         Buyer beware   \n",
       "17   1115942400  Fall on your knee's   \n",
       "18   1117065600       Bravo Veronica   \n",
       "\n",
       "                                          review/text   categories  \n",
       "14  I bought this book because I read some glowing...  ['Fiction']  \n",
       "15  I have to admit, I am not one to write reviews...  ['Fiction']  \n",
       "16  This is a self-published book, and if you want...  ['Fiction']  \n",
       "17  When I first read this the I was mezmerized at...  ['Fiction']  \n",
       "18  I read the review directly under mine and I ha...  ['Fiction']  "
      ]
     },
     "execution_count": 29,
     "metadata": {},
     "output_type": "execute_result"
    }
   ],
   "source": [
    "top_categories = [\"['Fiction']\",]\n",
    "# Filter the Dataset\n",
    "mg_filtered = mg[mg['categories'].apply(lambda x: x in top_categories)]\n",
    "# Remove Nas\n",
    "mg_filtered_cleaned = mg_filtered.dropna(subset=['categories'])\n",
    "mg_filtered_cleaned.head(5)"
   ]
  },
  {
   "cell_type": "code",
   "execution_count": 4,
   "id": "1db5ea49-5fcd-4064-8162-892ebaec8382",
   "metadata": {},
   "outputs": [
    {
     "data": {
      "text/plain": [
       "['Fiction']                      23419\n",
       "['Religion']                      9459\n",
       "['History']                       9330\n",
       "['Juvenile Fiction']              6643\n",
       "['Biography & Autobiography']     6324\n",
       "['Business & Economics']          5625\n",
       "['Computers']                     4312\n",
       "['Social Science']                3834\n",
       "['Juvenile Nonfiction']           3446\n",
       "['Science']                       2623\n",
       "Name: categories, dtype: int64"
      ]
     },
     "execution_count": 4,
     "metadata": {},
     "output_type": "execute_result"
    }
   ],
   "source": [
    "# top 10 categories in book data\n",
    "df2['categories'].value_counts().head(10)"
   ]
  },
  {
   "cell_type": "code",
   "execution_count": 20,
   "id": "ef8c2341-a67b-4a69-b7d4-13fb57912198",
   "metadata": {},
   "outputs": [],
   "source": [
    "# Fiction\n",
    "top_categories = [\"['Fiction']\",]\n",
    "\n",
    "# Filter the DataFrame\n",
    "df2_filtered = df2[df2['categories'].apply(lambda x: x in top_categories)]\n",
    "# merge two dataset using 'Title'\n",
    "merged_data = pd.merge(df, df2_filtered[['Title', 'categories']], on='Title', how='left')\n",
    "# remove Nas\n",
    "merged_data_cleaned = merged_data.dropna(subset=['categories'])\n",
    "# save the filtered dataset\n",
    "savefile = '/storage/home/ybc5222/work/MiniProject/fiction_data.csv'\n",
    "merged_data_cleaned.to_csv(savefile)"
   ]
  },
  {
   "cell_type": "code",
   "execution_count": null,
   "id": "0fbb3488-0392-4a48-9f77-773c13524e39",
   "metadata": {},
   "outputs": [],
   "source": [
    "# Religion\n",
    "top_categories = [\"['Religion']\",]\n",
    "\n",
    "# Filter the DataFrame\n",
    "df2_filtered = df2[df2['categories'].apply(lambda x: x in top_categories)]\n",
    "# merge two dataset using 'Title'\n",
    "merged_data = pd.merge(df, df2_filtered[['Title', 'categories']], on='Title', how='left')\n",
    "# remove Nas\n",
    "merged_data_cleaned = merged_data.dropna(subset=['categories'])\n",
    "# save the filtered dataset\n",
    "savefile = '/storage/home/ybc5222/work/MiniProject/religion_data.csv'\n",
    "merged_data_cleaned.to_csv(savefile)"
   ]
  },
  {
   "cell_type": "code",
   "execution_count": null,
   "id": "f6b6e2be-2fd6-47fe-a135-c736c56f4cb9",
   "metadata": {},
   "outputs": [],
   "source": [
    "# History\n",
    "top_categories = [\"['History']\",]\n",
    "\n",
    "# Filter the DataFrame\n",
    "df2_filtered = df2[df2['categories'].apply(lambda x: x in top_categories)]\n",
    "# merge two dataset using 'Title'\n",
    "merged_data = pd.merge(df, df2_filtered[['Title', 'categories']], on='Title', how='left')\n",
    "# remove Nas\n",
    "merged_data_cleaned = merged_data.dropna(subset=['categories'])\n",
    "# save the filtered dataset\n",
    "savefile = '/storage/home/ybc5222/work/MiniProject/history_data.csv'\n",
    "merged_data_cleaned.to_csv(savefile)"
   ]
  },
  {
   "cell_type": "code",
   "execution_count": null,
   "id": "018193e8-9c4c-442c-84eb-6f1df62135e1",
   "metadata": {},
   "outputs": [],
   "source": [
    "# Juvenile Fiction\n",
    "top_categories = [\"['Juvenile Fiction']\",]\n",
    "\n",
    "# Filter the DataFrame\n",
    "df2_filtered = df2[df2['categories'].apply(lambda x: x in top_categories)]\n",
    "# merge two dataset using 'Title'\n",
    "merged_data = pd.merge(df, df2_filtered[['Title', 'categories']], on='Title', how='left')\n",
    "# remove Nas\n",
    "merged_data_cleaned = merged_data.dropna(subset=['categories'])\n",
    "# save the filtered dataset\n",
    "savefile = '/storage/home/ybc5222/work/MiniProject/jfiction_data.csv'\n",
    "merged_data_cleaned.to_csv(savefile)"
   ]
  },
  {
   "cell_type": "code",
   "execution_count": null,
   "id": "61694fc7-627b-49fc-b09c-022d4da314a1",
   "metadata": {},
   "outputs": [],
   "source": [
    "# Biography & Autobiography\n",
    "top_categories = [\"['Biography & Autobiography']\",]\n",
    "\n",
    "# Filter the DataFrame\n",
    "df2_filtered = df2[df2['categories'].apply(lambda x: x in top_categories)]\n",
    "# merge two dataset using 'Title'\n",
    "merged_data = pd.merge(df, df2_filtered[['Title', 'categories']], on='Title', how='left')\n",
    "# remove Nas\n",
    "merged_data_cleaned = merged_data.dropna(subset=['categories'])\n",
    "# save the filtered dataset\n",
    "savefile = '/storage/home/ybc5222/work/MiniProject/banda_data.csv'\n",
    "merged_data_cleaned.to_csv(savefile)"
   ]
  },
  {
   "cell_type": "code",
   "execution_count": null,
   "id": "bf498eff-1f02-40ee-b7c5-9c0650159754",
   "metadata": {},
   "outputs": [],
   "source": [
    "# Business & Economics\n",
    "top_categories = [\"['Business & Economics']\",]\n",
    "\n",
    "# Filter the DataFrame\n",
    "df2_filtered = df2[df2['categories'].apply(lambda x: x in top_categories)]\n",
    "# merge two dataset using 'Title'\n",
    "merged_data = pd.merge(df, df2_filtered[['Title', 'categories']], on='Title', how='left')\n",
    "# remove Nas\n",
    "merged_data_cleaned = merged_data.dropna(subset=['categories'])\n",
    "# save the filtered dataset\n",
    "savefile = '/storage/home/ybc5222/work/MiniProject/bande_data.csv'\n",
    "merged_data_cleaned.to_csv(savefile)"
   ]
  },
  {
   "cell_type": "code",
   "execution_count": null,
   "id": "cef416ae-4d4a-4d2c-84d0-585aa477c29f",
   "metadata": {},
   "outputs": [],
   "source": [
    "# Computers\n",
    "top_categories = [\"['Computers']\",]\n",
    "\n",
    "# Filter the DataFrame\n",
    "df2_filtered = df2[df2['categories'].apply(lambda x: x in top_categories)]\n",
    "# merge two dataset using 'Title'\n",
    "merged_data = pd.merge(df, df2_filtered[['Title', 'categories']], on='Title', how='left')\n",
    "# remove Nas\n",
    "merged_data_cleaned = merged_data.dropna(subset=['categories'])\n",
    "# save the filtered dataset\n",
    "savefile = '/storage/home/ybc5222/work/MiniProject/computers_data.csv'\n",
    "merged_data_cleaned.to_csv(savefile)"
   ]
  },
  {
   "cell_type": "code",
   "execution_count": null,
   "id": "8a813e21-0bb3-43b4-936b-57b4f82043b3",
   "metadata": {},
   "outputs": [],
   "source": [
    "# Social Science\n",
    "top_categories = [\"['Social Science']\",]\n",
    "\n",
    "# Filter the DataFrame\n",
    "df2_filtered = df2[df2['categories'].apply(lambda x: x in top_categories)]\n",
    "# merge two dataset using 'Title'\n",
    "merged_data = pd.merge(df, df2_filtered[['Title', 'categories']], on='Title', how='left')\n",
    "# remove Nas\n",
    "merged_data_cleaned = merged_data.dropna(subset=['categories'])\n",
    "# save the filtered dataset\n",
    "savefile = '/storage/home/ybc5222/work/MiniProject/socialscience_data.csv'\n",
    "merged_data_cleaned.to_csv(savefile)"
   ]
  },
  {
   "cell_type": "code",
   "execution_count": null,
   "id": "972573cd-67e3-43ee-91a7-e1c2ab164880",
   "metadata": {},
   "outputs": [],
   "source": [
    "# Juvenile Nonfiction\n",
    "top_categories = [\"['Juvenile Nonfiction']\",]\n",
    "\n",
    "# Filter the DataFrame\n",
    "df2_filtered = df2[df2['categories'].apply(lambda x: x in top_categories)]\n",
    "# merge two dataset using 'Title'\n",
    "merged_data = pd.merge(df, df2_filtered[['Title', 'categories']], on='Title', how='left')\n",
    "# remove Nas\n",
    "merged_data_cleaned = merged_data.dropna(subset=['categories'])\n",
    "# save the filtered dataset\n",
    "savefile = '/storage/home/ybc5222/work/MiniProject/jnonfiction_data.csv'\n",
    "merged_data_cleaned.to_csv(savefile)"
   ]
  },
  {
   "cell_type": "code",
   "execution_count": null,
   "id": "463a1621-407e-41c7-a5a1-6ed314ecad51",
   "metadata": {},
   "outputs": [],
   "source": [
    "# Science\n",
    "top_categories = [\"['Science']\",]\n",
    "\n",
    "# Filter the DataFrame\n",
    "df2_filtered = df2[df2['categories'].apply(lambda x: x in top_categories)]\n",
    "# merge two dataset using 'Title'\n",
    "merged_data = pd.merge(df, df2_filtered[['Title', 'categories']], on='Title', how='left')\n",
    "# remove Nas\n",
    "merged_data_cleaned = merged_data.dropna(subset=['categories'])\n",
    "# save the filtered dataset\n",
    "savefile = '/storage/home/ybc5222/work/MiniProject/science_data.csv'\n",
    "merged_data_cleaned.to_csv(savefile)"
   ]
  }
 ],
 "metadata": {
  "kernelspec": {
   "display_name": "Python 3",
   "language": "python",
   "name": "python3"
  },
  "language_info": {
   "codemirror_mode": {
    "name": "ipython",
    "version": 3
   },
   "file_extension": ".py",
   "mimetype": "text/x-python",
   "name": "python",
   "nbconvert_exporter": "python",
   "pygments_lexer": "ipython3",
   "version": "3.8.8"
  }
 },
 "nbformat": 4,
 "nbformat_minor": 5
}
